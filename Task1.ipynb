{
  "cells": [
    {
      "cell_type": "code",
      "execution_count": null,
      "id": "e2c6a773",
      "metadata": {
        "id": "e2c6a773"
      },
      "outputs": [],
      "source": [
        "import numpy as np\n",
        "import cv2 as cv\n",
        "import os\n",
        "import matplotlib.pyplot as plt\n",
        "import glob\n",
        "from shapely.geometry import Point, Polygon"
      ]
    },
    {
      "cell_type": "code",
      "execution_count": null,
      "id": "b722a0d0",
      "metadata": {
        "id": "b722a0d0"
      },
      "outputs": [],
      "source": [
        "train = False\n",
        "if train:\n",
        "    images = glob.glob(\"./train/Task1/*.jpg\")\n",
        "else:\n",
        "    images = glob.glob(\"./test/Task1/*.jpg\")\n",
        "images.sort()"
      ]
    },
    {
      "cell_type": "code",
      "execution_count": null,
      "id": "3240dd16",
      "metadata": {
        "id": "3240dd16"
      },
      "outputs": [],
      "source": [
        "images_t = []\n",
        "for img in images:\n",
        "    images_t.append(cv.imread(img))"
      ]
    },
    {
      "cell_type": "markdown",
      "id": "4f695a1e",
      "metadata": {
        "id": "4f695a1e"
      },
      "source": [
        "Hardcoded darts circle shapes (by numbers)"
      ]
    },
    {
      "cell_type": "code",
      "execution_count": null,
      "id": "40957ca6",
      "metadata": {
        "id": "40957ca6"
      },
      "outputs": [],
      "source": [
        "h_s = {10: [(1296,1468),(1316,1484),(1288,1496),(1308,1508)], 9: [(1276,1352),(1348,1368),(1392,1412),(1404,1484),(1392,1557),(1364,1617),(1304,1637),(1236,1621),(1171,1545),(1175,1456),(1211,1396),(1236,1621)],\n",
        "       8: [(1292,1219),(1368,1244),(1428,1288),(1456,1348),(1456,1352),(1484,1436),(1480,1528),(1456,1601),(1428,1681),(1368,1729),(1284,1761),(1163,1717),(1224,1753),(1099,1629),(1071,1512),(1087,1400),(1131,1308),(1203,1240)],\n",
        "       7: [(1276,1107),(1364,1123),(1448,1179),(1500,1256),(1553,1356),(1569,1496),(1549,1605),(1512,1705),(1448,1801),(1364,1858),(1256,1874),(1135,1838),(1043,1749),(999,1633),(979,1500),(1007,1356),(1075,1215),(1167,1143)],\n",
        "       6: [(1280,983),(1368,1003),(1464,1055),(1533,1115),(1585,1207),(1633,1312),(1649,1448),(1633,1585),(1605,1701),(1545,1809),(1472,1902),(1392,1954),(1292,2002),(1167,1986),(1067,1942),(979,1850),(906,1717),(878,1585),(874,1448),(902,1304),(971,1167),(1079,1055),(1187,999)],\n",
        "       5: [(1272,878),(1175,886),(1071,931),(963,1011),(886,1103),(826,1219),(782,1340),(766,1476),(770,1605),(794,1725),(834,1825),(894,1926),(955,1998),(1047,2062),(1151,2110),(1264,2114),(1364,2078),(1460,2030),(1528,1970),(1601,1878),(1653,1789),(1380,890),(1488,951),(1565,1019),(1633,1115),(1677,1211),(1697,1308),(1713,1404),(1717,1520),(1697,1621),(1681,1709)],\n",
        "       4: [(1224,738),(1340,758),(1448,798),(1541,862),(1613,935),(1681,1027),(1725,1127),(1761,1240),(1785,1356),(1789,1468),(1777,1589),(1753,1721),(1713,1821),(1653,1938),(1589,2034),(1500,2114),(1396,2183),(1288,2219),(1187,2227),(1063,2199),(951,2147),(850,2066),(766,1950),(706,1821),(670,1689),(654,1553),(666,1416),(698,1260),(742,1115),(814,995),(919,874),(1035,794),(1131,758)],\n",
        "       3: [(1187,630),(1316,634),(1428,666),(1533,730),(1625,818),(1705,919),(1761,1027),(1809,1139),(1838,1260),(1850,1380),(1854,1512),(1833,1649),(1805,1777),(1769,1882),(1713,1982),(1657,2070),(1585,2155),(1504,2227),(1400,2283),(1280,2331),(1139,2331),(983,2303),(870,2239),(766,2143),(666,2014),(593,1858),(553,1693),(537,1553),(541,1392),(565,1232),(642,1047),(738,886),(850,766),(991,678),(1087,642)],\n",
        "       2: [(1215,485),(1328,505),(1440,549),(1541,605),(1625,670),(1705,762),(1761,838),(1805,935),(1854,1031),(1886,1139),(1906,1244),(1918,1372),(1914,1500),(1906,1621),(1886,1737),(1854,1850),(1805,1954),(1753,2058),(1693,2147),(1617,2243),(1545,2311),(1444,2379),(1328,2431),(1224,2460),(1091,2464),(971,2439),(854,2383),(746,2315),(666,2235),(593,2138),(513,2010),(457,1862),(429,1729),(413,1565),(413,1412),(433,1256),(481,1087),(549,939),(642,786),(742,674),(882,577),(1027,505),(1143,489)],\n",
        "       1: [(1183,333),(1324,353),(1452,393),(1557,457),(1653,537),(1737,626),(1801,722),(1874,842),(1922,967),(1966,1095),(1986,1219),(2002,1352),(1998,1484),(1986,1609),(1962,1737),(1934,1850),(1890,1970),(1846,2070),(1781,2167),(1717,2267),(1645,2347),(1557,2431),(1456,2492),(1344,2548),(1240,2580),(1115,2588),(975,2584),(850,2548),(742,2492),(650,2423),(545,2323),(473,2219),(393,2082),(333,1934),(292,1793),(268,1633),(268,1440),(276,1268),(309,1115),(357,971),(421,826),(513,690),(614,581),(742,469),(886,385),(1035,341)]}"
      ]
    },
    {
      "cell_type": "markdown",
      "id": "195bf1b3",
      "metadata": {
        "id": "195bf1b3"
      },
      "source": [
        "Helper functions that identify the position on the dart board of a point by its (x, y) coordinates using the above hardcoded shapes"
      ]
    },
    {
      "cell_type": "code",
      "execution_count": null,
      "id": "e5c66b67",
      "metadata": {
        "id": "e5c66b67"
      },
      "outputs": [],
      "source": [
        "def inside_zone(zone_no, point, h_s=h_s):\n",
        "    if zone_no != 10:\n",
        "        coord = h_s[zone_no]\n",
        "        coord2 = h_s[zone_no+1]\n",
        "    else:\n",
        "        coord = h_s[10]\n",
        "\n",
        "    p = Point(point[0], point[1])\n",
        "    poly = Polygon(coord)\n",
        "\n",
        "    if p.within(poly):\n",
        "        if zone_no == 10:\n",
        "            return True\n",
        "        else:\n",
        "            poly = Polygon(coord2)\n",
        "            if not p.within(poly):\n",
        "                return True\n",
        "            else:\n",
        "                return False\n",
        "    else:\n",
        "        return False"
      ]
    },
    {
      "cell_type": "code",
      "execution_count": null,
      "id": "eb69f6f3",
      "metadata": {
        "id": "eb69f6f3"
      },
      "outputs": [],
      "source": [
        "def which_zone(point):\n",
        "    zones = np.arange(1, 11)\n",
        "    for zone in zones:\n",
        "        if inside_zone(zone, point):\n",
        "            return zone"
      ]
    },
    {
      "cell_type": "code",
      "execution_count": null,
      "id": "b2851783",
      "metadata": {
        "id": "b2851783"
      },
      "outputs": [],
      "source": [
        "u = np.array([30, 255, 255])\n",
        "l = np.array([8, 43, 56])"
      ]
    },
    {
      "cell_type": "code",
      "execution_count": null,
      "id": "f2771d92",
      "metadata": {
        "id": "f2771d92"
      },
      "outputs": [],
      "source": [
        "masked = []\n",
        "\n",
        "for img in images_t:\n",
        "    img_hsv = cv.cvtColor(img, cv.COLOR_BGR2HSV)\n",
        "    masked.append(cv.inRange(img_hsv, l, u))"
      ]
    },
    {
      "cell_type": "code",
      "execution_count": null,
      "id": "c6b367fa",
      "metadata": {
        "id": "c6b367fa"
      },
      "outputs": [],
      "source": [
        "for i, img in enumerate(masked):\n",
        "    line_coord = cv.HoughLinesP(img, 1, np.pi / 180, 40, minLineLength=51, maxLineGap=4)\n",
        "    for coords in line_coord:\n",
        "        #print(line)\n",
        "        line = coords[0]\n",
        "        cv.line(images_t[i], (line[0], line[1]), (line[2], line[3]), (255, 255, 0), 11)"
      ]
    },
    {
      "cell_type": "code",
      "execution_count": null,
      "id": "5b41e04f",
      "metadata": {
        "id": "5b41e04f"
      },
      "outputs": [],
      "source": [
        "binary_highlighted = []\n",
        "\n",
        "for img in images_t:\n",
        "    binary_highlighted.append(cv.inRange(img, (255, 255, 0), (255, 255, 0)))       #(255, 255, 0) is the high and low hsv value"
      ]
    },
    {
      "cell_type": "code",
      "execution_count": null,
      "id": "fa2e72bd",
      "metadata": {
        "id": "fa2e72bd"
      },
      "outputs": [],
      "source": [
        "binary_dilated = []\n",
        "for img in binary_highlighted:\n",
        "    binary_dilated.append(cv.dilate(img, np.ones((5, 5), np.uint8), iterations=1))"
      ]
    },
    {
      "cell_type": "code",
      "execution_count": null,
      "id": "8bba4662",
      "metadata": {
        "id": "8bba4662"
      },
      "outputs": [],
      "source": [
        "positions_all = []                 #darts positions on darts board\n",
        "nr = []                            #number of darts per image"
      ]
    },
    {
      "cell_type": "code",
      "execution_count": null,
      "id": "9c927935",
      "metadata": {
        "id": "9c927935"
      },
      "outputs": [],
      "source": [
        "for img in binary_dilated:\n",
        "    contours, hierarchy = cv.findContours(img, cv.RETR_EXTERNAL, cv.CHAIN_APPROX_NONE)\n",
        "\n",
        "    positions = []\n",
        "    nr.append(len(contours))\n",
        "    for contour in contours:\n",
        "        M = cv.moments(contour)\n",
        "        centroid = (int(M[\"m10\"] / M[\"m00\"]), int(M[\"m01\"] / M[\"m00\"]))\n",
        "        angle = 0.5 * np.arctan2(2 * M[\"mu11\"], M[\"mu20\"] - M[\"mu02\"])\n",
        "        x = -131 * np.cos(angle) + centroid[0]\n",
        "        y = -131 * np.sin(angle) + centroid[1]\n",
        "        pos = which_zone((x, y))\n",
        "        positions.append(pos)\n",
        "    positions_all.append(positions)"
      ]
    },
    {
      "cell_type": "code",
      "execution_count": null,
      "id": "df6c8ee4",
      "metadata": {
        "id": "df6c8ee4",
        "outputId": "ef65a690-08c0-4641-fd2a-a81d5436a63a"
      },
      "outputs": [
        {
          "name": "stdout",
          "output_type": "stream",
          "text": [
            "Directory already exists\n"
          ]
        }
      ],
      "source": [
        "try:\n",
        "    os.mkdir(\"./Stegarescu_Ana-Maria_507\")\n",
        "except:\n",
        "    print(\"Directory already exists\")"
      ]
    },
    {
      "cell_type": "code",
      "execution_count": null,
      "id": "509cf0a4",
      "metadata": {
        "id": "509cf0a4",
        "outputId": "008ea1c8-0d63-4c41-d315-01b0a17eddd1"
      },
      "outputs": [
        {
          "name": "stdout",
          "output_type": "stream",
          "text": [
            "Directory already exists\n"
          ]
        }
      ],
      "source": [
        "try:\n",
        "    os.mkdir(\"./Stegarescu_Ana-Maria_507/Task1\")\n",
        "except:\n",
        "    print(\"Directory already exists\")"
      ]
    },
    {
      "cell_type": "code",
      "execution_count": null,
      "id": "d4492ce9",
      "metadata": {
        "id": "d4492ce9"
      },
      "outputs": [],
      "source": [
        "for i in range(25):\n",
        "    folder = 'Stegarescu_Ana-Maria_507/Task1'\n",
        "\n",
        "    file = ''\n",
        "    if i < 9:\n",
        "        file = folder + '/0' + str(i+1) + '_predicted.txt'\n",
        "    else:\n",
        "        file = folder + \"/\" + str(i+1) + '_predicted.txt'\n",
        "    f = open(file, \"w\")\n",
        "    f.write(str(nr[i]) + \"\\n\")\n",
        "    for j, pos in enumerate(positions_all[i]):\n",
        "        if j + 1 < len(positions_all[i]):\n",
        "            f.write(str(pos) + \"\\n\")\n",
        "        else:\n",
        "            f.write(str(pos))\n",
        "    f.close()"
      ]
    },
    {
      "cell_type": "code",
      "execution_count": null,
      "id": "ba5d1d01",
      "metadata": {
        "id": "ba5d1d01",
        "outputId": "ecc86a2f-6063-44a0-f0da-4fe5a420cb4d"
      },
      "outputs": [
        {
          "name": "stdout",
          "output_type": "stream",
          "text": [
            "1 [4, 7, 4]\n",
            "2 [3, 6, 5]\n",
            "3 [4, 6]\n",
            "4 [5, 4]\n",
            "5 [6, 5]\n",
            "6 [5]\n",
            "7 [7, 9, 6]\n",
            "8 [6, 7]\n",
            "9 [5, 4]\n",
            "10 [7, 9]\n",
            "11 [8]\n",
            "12 [6, 6, 7]\n",
            "13 [9, 6, 6]\n",
            "14 [6]\n",
            "15 [4, 7]\n",
            "16 [6, 7]\n",
            "17 [9]\n",
            "18 [8, 4]\n",
            "19 [6]\n",
            "20 [6, 4]\n",
            "21 [4, 7, 4]\n",
            "22 [6, 8, 4]\n",
            "23 [5]\n",
            "24 [5, 4]\n",
            "25 [4]\n"
          ]
        }
      ],
      "source": [
        "for i in range(25):\n",
        "    print(i+1, positions_all[i])"
      ]
    }
  ],
  "metadata": {
    "kernelspec": {
      "display_name": "general_env_39",
      "language": "python",
      "name": "general_env_39"
    },
    "language_info": {
      "codemirror_mode": {
        "name": "ipython",
        "version": 3
      },
      "file_extension": ".py",
      "mimetype": "text/x-python",
      "name": "python",
      "nbconvert_exporter": "python",
      "pygments_lexer": "ipython3",
      "version": "3.9.16"
    },
    "colab": {
      "provenance": []
    }
  },
  "nbformat": 4,
  "nbformat_minor": 5
}